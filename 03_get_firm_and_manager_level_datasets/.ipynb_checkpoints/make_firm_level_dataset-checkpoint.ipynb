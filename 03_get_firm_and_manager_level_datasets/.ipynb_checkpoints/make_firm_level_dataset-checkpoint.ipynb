{
 "cells": [
  {
   "cell_type": "code",
   "execution_count": null,
   "id": "b0e96908",
   "metadata": {},
   "outputs": [],
   "source": [
    "# Import Packages\n",
    "import pandas as pd, numpy as np\n",
    "from pathlib import Path\n",
    "import os, sys, glob, re\n",
    "from collections import OrderedDict\n",
    "pd.set_option('display.max_rows', 100)\n",
    "pd.set_option('display.max_columns', 80)"
   ]
  },
  {
   "cell_type": "markdown",
   "id": "8e697081-da6f-4a31-af9f-9b16c64cfc02",
   "metadata": {},
   "source": [
    "# Define input and output folders"
   ]
  },
  {
   "cell_type": "code",
   "execution_count": null,
   "id": "8ff39e0d-7cbf-44a5-b1a0-f3fa6962fd73",
   "metadata": {},
   "outputs": [],
   "source": [
    "def parent_dir(dir):\n",
    "    return os.path.abspath(os.path.join(dir, os.pardir))"
   ]
  },
  {
   "cell_type": "code",
   "execution_count": null,
   "id": "45a8b635-6612-4408-886b-3609ff0ebafe",
   "metadata": {},
   "outputs": [],
   "source": [
    "# Define input folder containing output from combined BoardEx files\n",
    "inputfolder = Path(parent_dir(parent_dir(os.getcwd())) / Path('output/02_get_initial_datasets/02.2_boardex_combined'))\n",
    "print('inputfolder:', inputfolder, inputfolder.__class__)\n",
    "# Define output folder containing firm-level dataset\n",
    "outputfolder = Path(parent_dir(parent_dir(os.getcwd())) / Path('output/03_get_firm_and_manager_level_datasets'))\n",
    "print('outputfolder:', outputfolder, outputfolder.__class__)"
   ]
  },
  {
   "cell_type": "markdown",
   "id": "af5d4203",
   "metadata": {
    "tags": []
   },
   "source": [
    "# Import Board Summary"
   ]
  },
  {
   "cell_type": "code",
   "execution_count": null,
   "id": "dfcbae17",
   "metadata": {},
   "outputs": [],
   "source": [
    "inputfilepath = Path(inputfolder / \"Board Summary.csv\")"
   ]
  },
  {
   "cell_type": "code",
   "execution_count": null,
   "id": "2060ef1b-2f49-4585-a6ca-6dcfa6653f9f",
   "metadata": {},
   "outputs": [],
   "source": [
    "df = pd.read_csv(inputfilepath, low_memory=False)\n",
    "df"
   ]
  },
  {
   "cell_type": "markdown",
   "id": "794d0681-e329-49ec-afcd-aaa24ffae0a9",
   "metadata": {
    "tags": []
   },
   "source": [
    "# Process year/month"
   ]
  },
  {
   "cell_type": "code",
   "execution_count": null,
   "id": "cf8b6047-e175-4f90-b753-7b2d654ae013",
   "metadata": {},
   "outputs": [],
   "source": [
    "# Get month and year\n",
    "df['Month'] = df['Annual Report Year'].str[0:4]\n",
    "df['Year'] = df['Annual Report Year'].str[4:]\n",
    "df.head(5)"
   ]
  },
  {
   "cell_type": "code",
   "execution_count": null,
   "id": "3a5ab014-122d-447f-9729-e2b92af101f2",
   "metadata": {},
   "outputs": [],
   "source": [
    "# Get current year\n",
    "# Replace 'Current' with the latest month (previous month of company + 1 year)\n",
    "current_year = (df[df['Annual Report Year'] != 'Current'].groupby('CompanyID*')['Year'].max().astype('int') + 1).reset_index()\n",
    "\n",
    "# Get current month\n",
    "current_month = df[df['Annual Report Year'] != 'Current'].groupby('CompanyID*')['Month'].first().reset_index()"
   ]
  },
  {
   "cell_type": "code",
   "execution_count": null,
   "id": "43c44c04-30a8-4027-99b4-12ce94ae0dcf",
   "metadata": {},
   "outputs": [],
   "source": [
    "# Get current year and month\n",
    "current_year_month = current_year.merge(current_month, on='CompanyID*', how='inner')\n",
    "current_year_month = current_year_month.rename(columns={'Year':'Current Year', 'Month':'Current Month'})\n",
    "current_year_month"
   ]
  },
  {
   "cell_type": "code",
   "execution_count": null,
   "id": "6f3ca43f-c991-46c5-ab49-d9a35139ce7f",
   "metadata": {},
   "outputs": [],
   "source": [
    "# Merge current year and month back to df\n",
    "df = df.merge(current_year_month, on=['CompanyID*'], how='inner')\n",
    "# Redefine year and month\n",
    "df['Year'] = np.where(df['Annual Report Year'] == 'Current', df['Current Year'], df['Year']).astype('int')\n",
    "df['Month'] = np.where(df['Annual Report Year'] == 'Current', df['Current Month'], df['Month'])\n",
    "df"
   ]
  },
  {
   "cell_type": "code",
   "execution_count": null,
   "id": "02a8bb1a",
   "metadata": {},
   "outputs": [],
   "source": [
    "# Only only get data from 2002 onwards\n",
    "df = df[df['Year'] >= 2002]\n",
    "df"
   ]
  },
  {
   "cell_type": "markdown",
   "id": "f5ad6d12-a9c6-4a63-85f5-02e9f4a9e9b2",
   "metadata": {
    "tags": []
   },
   "source": [
    "# Change data types"
   ]
  },
  {
   "cell_type": "code",
   "execution_count": null,
   "id": "c3ee9611-0b71-41cf-9981-c9535b6f4b9a",
   "metadata": {},
   "outputs": [],
   "source": [
    "# Change data types to enable .groupby to work later on\n",
    "data_types_dict = {'Year': 'int64'}\n",
    "df = df.astype(data_types_dict)\n",
    "df.dtypes"
   ]
  },
  {
   "cell_type": "markdown",
   "id": "d0f97516-b54f-4bd1-8563-ee421aa2f808",
   "metadata": {
    "tags": []
   },
   "source": [
    "# Drop duplicates"
   ]
  },
  {
   "cell_type": "code",
   "execution_count": null,
   "id": "23c112d1-afa3-45d1-933a-708c13aa1440",
   "metadata": {},
   "outputs": [],
   "source": [
    "# Prepare dataset to get variables\n",
    "# First we get dataset to be at (year, company, director) level. We will later aggregate across directors to get to the (year, company) level.\n",
    "df = df.drop_duplicates(subset=['Year', 'CompanyID*', 'DirectorID*'], ignore_index=True)\n",
    "df"
   ]
  },
  {
   "cell_type": "markdown",
   "id": "a0839cd5-b5f4-4c2c-884a-a28262e5c745",
   "metadata": {
    "tags": []
   },
   "source": [
    "# Check units of certain variables\n",
    "Observations:\n",
    "- Time (e.g. time on board, time in company) is in years\n",
    "- Compensation in '000s (from documentation) seems reasonable"
   ]
  },
  {
   "cell_type": "code",
   "execution_count": null,
   "id": "882bfa34-8d49-4dc2-bf5d-1e74fec4988f",
   "metadata": {},
   "outputs": [],
   "source": [
    "df[df['DirectorID*'] == 13237186434].sort_values('Year')"
   ]
  },
  {
   "cell_type": "code",
   "execution_count": null,
   "id": "a7d66c0d-b636-4cb2-bae5-8b48e7e83318",
   "metadata": {},
   "outputs": [],
   "source": [
    "df[['Annual Direct Compensation - Total Salary+Bonus', 'Accumulated Wealth - Shares', 'Total Wealth - Total Wealth']].describe(percentiles=[0.25,0.5,0.75,0.9,0.95])"
   ]
  },
  {
   "cell_type": "markdown",
   "id": "711b44eb-6990-472d-8b29-3c94fd71ecfc",
   "metadata": {
    "tags": []
   },
   "source": [
    "# Adding columns to uncollapsed table 1: Get CEO/CFO variables"
   ]
  },
  {
   "cell_type": "code",
   "execution_count": null,
   "id": "a4fb1b8a-21f1-406f-912b-423be60244d4",
   "metadata": {},
   "outputs": [],
   "source": [
    "# Add indicator variables for whether role is CEO or CFO\n",
    "df['CEO'] = df['Characteristics of Roles - Individual Role'].str.contains(r'^(CEO|CEO/.*)$', case=True, regex=True)\n",
    "df['CFO'] = df['Characteristics of Roles - Individual Role'].str.contains(r'^(CFO|CFO/.*)$', case=True, regex=True)\n",
    "# View strings tagged as CEO or CFO\n",
    "print('CEO roles:', df[df['CEO'] == True]['Characteristics of Roles - Individual Role'].unique())\n",
    "print('CFO roles:', df[df['CFO'] == True]['Characteristics of Roles - Individual Role'].unique())\n",
    "# Get number of directors who have been CEOs or CFOs\n",
    "print('Number of CEOs:', df[df['CEO'] == True]['DirectorID*'].nunique())\n",
    "print('Number of CFOs:', df[df['CFO'] == True]['DirectorID*'].nunique())"
   ]
  },
  {
   "cell_type": "markdown",
   "id": "ec6dcc8e-9abc-47d0-adbb-2f817d251408",
   "metadata": {
    "tags": []
   },
   "source": [
    "## Check if there is only one CEO and CFO per (company, year)\n",
    "- We see that there are a few (company, years) with 2 CEOs and/or 2 CFOs. During aggregation, we use 'first' to take the first one."
   ]
  },
  {
   "cell_type": "code",
   "execution_count": null,
   "id": "2bd0cf17-5b83-403c-80ee-d20481abd0c6",
   "metadata": {},
   "outputs": [],
   "source": [
    "# Check if there is only one CEO and CFO per (company, year)\n",
    "ceo_cfo_count_check = df.groupby(['Year', 'CompanyID*'])[['CEO','CFO']].sum().reset_index()\n",
    "ceo_cfo_count_check"
   ]
  },
  {
   "cell_type": "code",
   "execution_count": null,
   "id": "03150237-e908-4057-a68d-e3445bc87927",
   "metadata": {},
   "outputs": [],
   "source": [
    "ceo_cfo_count_check['CEO'].value_counts()"
   ]
  },
  {
   "cell_type": "code",
   "execution_count": null,
   "id": "e389f1bd-190e-4bf3-a837-2654fafa807b",
   "metadata": {},
   "outputs": [],
   "source": [
    "ceo_cfo_count_check['CFO'].value_counts()"
   ]
  },
  {
   "cell_type": "code",
   "execution_count": null,
   "id": "004b34b8-dafb-496c-9a29-e2c628caeb2c",
   "metadata": {},
   "outputs": [],
   "source": [
    "ceo_cfo_count_check[ceo_cfo_count_check['CFO'] == 2]"
   ]
  },
  {
   "cell_type": "code",
   "execution_count": null,
   "id": "92dbc1ec-1937-4fb7-9cbc-f7bf2431ab4d",
   "metadata": {},
   "outputs": [],
   "source": [
    "df[(df['CFO']) & (df['Year'] == 2020) & (df['CompanyID*'] == 9723136113)]"
   ]
  },
  {
   "cell_type": "markdown",
   "id": "a834b579-a43c-45c1-a76c-e497a614c9c8",
   "metadata": {
    "tags": []
   },
   "source": [
    "# Adding columns to uncollapsed table 2: Get educational achievements of board members and CEO/CFOs"
   ]
  },
  {
   "cell_type": "markdown",
   "id": "ab909c26-b361-42c5-85d3-6539bb15da33",
   "metadata": {
    "tags": []
   },
   "source": [
    "## We eventually want the following variables:\n",
    "- Bachelors\n",
    "- Masters\n",
    "- MBA\n",
    "- PhD\n",
    "- % of all board members with bachelor's\n",
    "- % of all board members with master's\n",
    "- % of all board members with MBA\n",
    "- % of all board members with PhD\n",
    "- education degree of CEO\n",
    "- education degree of CFO\n",
    "- education institution of CEO\n",
    "- education institution of CFO\n",
    "- education country of CEO\n",
    "- education country of CFO\n",
    "\n",
    "For now, we ignore qualification date, so if someone got a Masters in 2020, we flag masters = 1 for all observations, even for those where he/she was an executive before 2020."
   ]
  },
  {
   "cell_type": "code",
   "execution_count": null,
   "id": "cee1941f-460d-4891-a8c2-e6373b1282b8",
   "metadata": {},
   "outputs": [],
   "source": [
    "# Read in education file\n",
    "df_education = pd.read_csv(Path(inputfolder / 'Profile - Education & Achievements.csv'), low_memory=False)\n",
    "df_education = df_education[df_education['sheet_name'] == 'Education']\n",
    "colstokeep = ['Institution Name', 'InstitutionID*', 'Qualification', 'Country', 'DirectorID*']\n",
    "df_education = df_education[colstokeep]\n",
    "# Remove rows with NA values for Qualification\n",
    "df_education = df_education[~df_education['Qualification'].isna()]\n",
    "df_education"
   ]
  },
  {
   "cell_type": "markdown",
   "id": "518490cd-e291-41bd-b903-edd573f95730",
   "metadata": {},
   "source": [
    "## Save institution ID to institution name crosswalk"
   ]
  },
  {
   "cell_type": "code",
   "execution_count": null,
   "id": "d4e34064-dda9-4b1b-bc52-e8d7de1868bb",
   "metadata": {},
   "outputs": [],
   "source": [
    "institution_name_crosswalk = df_education[['InstitutionID*', 'Institution Name']].drop_duplicates().sort_values('InstitutionID*')\n",
    "institution_name_crosswalk.to_csv(Path(outputfolder / 'institution_name_crosswalk.csv'), index=False)\n",
    "institution_name_crosswalk"
   ]
  },
  {
   "cell_type": "markdown",
   "id": "1fb28c8b-5c19-4d03-b82c-df8b5b58cb02",
   "metadata": {
    "tags": []
   },
   "source": [
    "## Identify Bachelors, Masters, MBA and PhD degrees"
   ]
  },
  {
   "cell_type": "code",
   "execution_count": null,
   "id": "2018684d-80fe-46bf-b8b5-248103386784",
   "metadata": {},
   "outputs": [],
   "source": [
    "# Add indicator variables for whether degree is Bachelors, Masters, MBA or PhD\n",
    "df_education['Bachelors'] = df_education['Qualification'].str.contains(r'^(BA.*|BS.*|AB.*|LLB.*|Bachelor.*|.*Graduated.*|Degree.*|B.*)$', case=True, regex=True)\n",
    "df_education['Masters'] = df_education['Qualification'].str.contains(r'^(MS.*|MSc.*|MPhil.*|MA.*|MEng.*|JD.*|MPA.*|.*MBA.*|.*Master.*Business Administration.*|Master.*)$', case=True, regex=True)\n",
    "df_education['MBA'] = df_education['Qualification'].str.contains('MBA|Master.*Business Administration', case=True, regex=True)\n",
    "df_education['PhD'] = df_education['Qualification'].str.contains('PhD', case=True, regex=True)\n",
    "df_education"
   ]
  },
  {
   "cell_type": "markdown",
   "id": "d65cecf8-6a96-484c-82f1-dc063856230f",
   "metadata": {
    "tags": []
   },
   "source": [
    "### Check regex to see that it's working as intended"
   ]
  },
  {
   "cell_type": "code",
   "execution_count": null,
   "id": "01fc777c-fd2a-44bf-a843-032291531783",
   "metadata": {},
   "outputs": [],
   "source": [
    "df_education_check = df_education[['Qualification', 'MBA', 'PhD', 'Bachelors', 'Masters']]\n",
    "# MBA is a Masters' program. But a Bachelor's is not a Masters, etc. So we look at the sum of booleans for each row to check if our regex patterns are correct.\n",
    "df_education_check['sum'] = df_education_check[['MBA', 'PhD', 'Bachelors', 'Masters']].sum(axis=1)\n",
    "df_education_check"
   ]
  },
  {
   "cell_type": "code",
   "execution_count": null,
   "id": "d7ff9b88-5853-4f7e-aa0c-a653c4afd1fa",
   "metadata": {},
   "outputs": [],
   "source": [
    "# Check those not classified as any degree\n",
    "df_education_check[df_education_check['sum'] == 0]['Qualification'].unique()[:100]"
   ]
  },
  {
   "cell_type": "code",
   "execution_count": null,
   "id": "d60cc10f-4bbe-471d-803a-d9852af64eff",
   "metadata": {},
   "outputs": [],
   "source": [
    "# Check that no qualification belongs to more than 2 categories\n",
    "df_education_check['sum'].value_counts()"
   ]
  },
  {
   "cell_type": "code",
   "execution_count": null,
   "id": "3f4e69b5-865b-4874-b1fe-8951f5f859d3",
   "metadata": {},
   "outputs": [],
   "source": [
    "# Check classifications\n",
    "print(\"Not classified as any degree:\", df_education_check[df_education_check['sum'] == 0]['Qualification'].unique())\n",
    "print(\"Bachelors:\", df_education_check[df_education_check['Bachelors'] == True]['Qualification'].unique())\n",
    "print(\"Masters:\", df_education_check[df_education_check['Masters'] == True]['Qualification'].unique())\n",
    "print(\"MBA:\", df_education_check[df_education_check['MBA'] == True]['Qualification'].unique())\n",
    "print(\"PhD:\", df_education_check[df_education_check['PhD'] == True]['Qualification'].unique())"
   ]
  },
  {
   "cell_type": "code",
   "execution_count": null,
   "id": "a70f690a-d07a-4ce7-b810-8915f431209e",
   "metadata": {},
   "outputs": [],
   "source": [
    "df_education['Qualification'].value_counts().iloc[:100]"
   ]
  },
  {
   "cell_type": "markdown",
   "id": "fd448260-48bf-435c-a5fe-ddd8b1fcb458",
   "metadata": {
    "tags": []
   },
   "source": [
    "## Get Bachelors, Masters, MBA and PhD 'indicator' variables, defined by whether the director has at least one of the corresponding degrees"
   ]
  },
  {
   "cell_type": "code",
   "execution_count": null,
   "id": "fbf1315f-4cb4-479f-bb56-7855bcd5f920",
   "metadata": {},
   "outputs": [],
   "source": [
    "# For each director, get whether he/she has at least one Bachelors, Masters, MBA and PhD degree.\n",
    "df_education_has_degree = df_education.groupby('DirectorID*')[['Bachelors', 'Masters', 'MBA', 'PhD']].sum()\n",
    "df_education_has_degree = df_education_has_degree.applymap(lambda x: 0 if x == 0 else 1)\n",
    "df_education_has_degree = df_education_has_degree.reset_index()\n",
    "df_education_has_degree"
   ]
  },
  {
   "cell_type": "markdown",
   "id": "6e666142-48a8-4ee1-954e-0481275cd5d2",
   "metadata": {
    "tags": []
   },
   "source": [
    "## Get the highest ranked degree for each director"
   ]
  },
  {
   "cell_type": "code",
   "execution_count": null,
   "id": "7d9312c2-77dd-4dd3-b614-e125995022b7",
   "metadata": {},
   "outputs": [],
   "source": [
    "# Assign rank to degrees, so that we can select the highest ranked degree later\n",
    "def get_rank(row):\n",
    "    if row['PhD'] == True:\n",
    "        return 4\n",
    "    elif row['MBA'] == True:\n",
    "        return 3\n",
    "    elif row['Masters'] == True:\n",
    "        return 2\n",
    "    elif row['Bachelors'] == True:\n",
    "        return 1\n",
    "    else:\n",
    "        return 0"
   ]
  },
  {
   "cell_type": "code",
   "execution_count": null,
   "id": "e8138934-99f5-46b3-a8e4-7ab1d1227057",
   "metadata": {},
   "outputs": [],
   "source": [
    "# For CEO/CFO, we choose the highest ranked degree in the order of: PhD > MBA > Masters > Bachelors > Nothing\n",
    "df_education['rank'] = df_education.apply(lambda row: get_rank(row), axis=1)\n",
    "df_education"
   ]
  },
  {
   "cell_type": "code",
   "execution_count": null,
   "id": "e2f7e52c-bcd9-45e5-85f2-fd16affc780e",
   "metadata": {},
   "outputs": [],
   "source": [
    "# Get the highest degree rank for each director\n",
    "df_education_rank = df_education.groupby('DirectorID*')['rank'].max().reset_index()\n",
    "df_education_rank"
   ]
  },
  {
   "cell_type": "code",
   "execution_count": null,
   "id": "d7c75980-287b-4f2a-905d-af8af2b5bf82",
   "metadata": {},
   "outputs": [],
   "source": [
    "# Get the first degree of that rank for each director (because some directors have e.g. multiple Masters degrees)\n",
    "df_education_highest_degree = df_education.merge(df_education_rank, on=['DirectorID*', 'rank'], how='inner').sort_values('DirectorID*')\n",
    "df_education_highest_degree"
   ]
  },
  {
   "cell_type": "code",
   "execution_count": null,
   "id": "92bb00fa-e849-4785-a001-7c3bb8b3a15e",
   "metadata": {},
   "outputs": [],
   "source": [
    "df_education_highest_degree = df_education_highest_degree.groupby('DirectorID*').first().reset_index()\n",
    "df_education_highest_degree"
   ]
  },
  {
   "cell_type": "code",
   "execution_count": null,
   "id": "ab2b3faf-940c-47d3-ae0e-cea3838230f8",
   "metadata": {},
   "outputs": [],
   "source": [
    "# Keep desired variables and rename them\n",
    "df_education_highest_degree = df_education_highest_degree[['DirectorID*', 'Institution Name', 'InstitutionID*', 'Qualification', 'Country']]\n",
    "df_education_highest_degree.columns = ['DirectorID*', 'Highest Ranked Degree - Institution Name', 'Highest Ranked Degree - InstitutionID*', 'Highest Ranked Degree - Qualification', 'Highest Ranked Degree - Country']\n",
    "df_education_highest_degree"
   ]
  },
  {
   "cell_type": "markdown",
   "id": "c70bda38-717b-4444-991b-9143d0542ca7",
   "metadata": {
    "tags": []
   },
   "source": [
    "## Merge additional education variables with df"
   ]
  },
  {
   "cell_type": "code",
   "execution_count": null,
   "id": "fad1a73a-5ce1-4628-adc7-6c149dab274b",
   "metadata": {},
   "outputs": [],
   "source": [
    "# Merge with df\n",
    "df_education_groupby = df_education_has_degree.merge(df_education_highest_degree, on='DirectorID*', how='inner')\n",
    "df_education_groupby"
   ]
  },
  {
   "cell_type": "code",
   "execution_count": null,
   "id": "dc441b79-0359-4e45-807c-0c2cd84315f9",
   "metadata": {},
   "outputs": [],
   "source": [
    "df = df.merge(df_education_groupby, on='DirectorID*')\n",
    "df"
   ]
  },
  {
   "cell_type": "markdown",
   "id": "8664e073",
   "metadata": {
    "tags": []
   },
   "source": [
    "# Base: Groupby year and company for applicable variables to get base manager-level dataset"
   ]
  },
  {
   "cell_type": "code",
   "execution_count": null,
   "id": "b63780eb",
   "metadata": {},
   "outputs": [],
   "source": [
    "# View columns\n",
    "df.columns"
   ]
  },
  {
   "cell_type": "code",
   "execution_count": null,
   "id": "ec6ebbb0-589f-4b1f-af1c-6c650f0be553",
   "metadata": {},
   "outputs": [],
   "source": [
    "def create_agg_dict(agg_list, function):\n",
    "    agg_dict = {}\n",
    "    for var in agg_list:\n",
    "        agg_dict[var] = function\n",
    "    return agg_dict"
   ]
  },
  {
   "cell_type": "code",
   "execution_count": null,
   "id": "284d5c2e-81f7-41e7-be46-6e329cbe5fa2",
   "metadata": {},
   "outputs": [],
   "source": [
    "agg_list_first = ['Country', 'ISIN']\n",
    "agg_list_mean = ['Characteristics of Roles - Director Network Size', 'Characteristics of Roles - Time to Retirement', \n",
    "                 'Characteristics of Roles - Time in Role', 'Characteristics of Roles - Time on Board', \n",
    "                 'Characteristics of Roles - Time in Company',\n",
    "                 'Director Experience - Total Number of Quoted Boards to Date', 'Director Experience - Total Number of Private Boards to Date', \n",
    "                 'Director Experience - Total Number of Other Boards to Date', \n",
    "                 'Director Experience - Total Number of Quoted Current Boards', 'Director Experience - Total Number of Private Current Boards', \n",
    "                 'Director Experience - Total Number of Other Current Boards', \n",
    "                 'Director Experience - Avg. Yrs on Other Quoted Boards', 'Director Experience - Age (Yrs)', \n",
    "                 'Director Experience - Number of Qualifications',\n",
    "                 'Ratios - Bonus/ (Bonus&Salary)', 'Ratios - Equity Linked/ Total', \n",
    "                 'Ratios - Performance/ Total', 'Ratios - Wealth Delta',\n",
    "                 'Director Count Totals - Number of Independent NED with past CFO/FD role',\n",
    "                 'Annual Direct Compensation - Salary',  'Annual Direct Compensation - Bonus', \n",
    "                 'Annual Direct Compensation - D.C Pension', 'Annual Direct Compensation - Other', \n",
    "                 'Annual Direct Compensation - Total Salary+Bonus', \n",
    "                 'Annual Direct Compensation - Total Inc. D.C. Pension & Other',\n",
    "                 'Annual- Equity Linked Options - Shares', 'Annual- Equity Linked Options - LTIPS(max)',\n",
    "                 'Annual- Equity Linked Options - Intrinsic Options (excercisable)',  \n",
    "                 'Annual- Equity Linked Options - Intrinsic Options (unexercisable)',\n",
    "                 'Annual- Equity Linked Options - Estimated Options (exercisable)',\n",
    "                 'Annual- Equity Linked Options - Estimated Options (unexcercisable)',\n",
    "                 'Annual- Equity Linked Options - Share Price', 'Annual- Equity Linked Options - Total Equity Linked Compensation', \n",
    "                 'Total - Total Annual Compensation',\n",
    "                 'Accumulated Wealth - Shares', 'Accumulated Wealth - LTIPS(max)', \n",
    "                 'Accumulated Wealth - Intrinsic Option', 'Accumulated Wealth - Estimated Option', \n",
    "                 'Accumulated Wealth - Liquid Wealth', \n",
    "                 'Total Wealth - Total Wealth',\n",
    "                 'Bachelors', 'Masters',\n",
    "                 'MBA', 'PhD']\n",
    "agg_list_list = ['Director Experience - Nationality Mix']\n",
    "\n",
    "agg_dict_first = create_agg_dict(agg_list_first, 'first')\n",
    "agg_dict_mean = create_agg_dict(agg_list_mean, 'mean')\n",
    "# agg_dict_list = create_agg_dict(agg_list_list, list)\n",
    "\n",
    "agg_dict = {**agg_dict_first, **agg_dict_mean}\n",
    "# agg_dict = {**agg_dict_first, **agg_dict_mean, **agg_dict_list}\n",
    "agg_dict = OrderedDict(agg_dict)\n",
    "agg_dict"
   ]
  },
  {
   "cell_type": "code",
   "execution_count": null,
   "id": "4fdd0eb1-c464-4109-87c3-18d9a0449642",
   "metadata": {},
   "outputs": [],
   "source": [
    "# See how many year-months a company has\n",
    "print(df.groupby(['CompanyID*', 'Company Name', 'Sector'])['Annual Report Year'].nunique().max())\n",
    "print(df.groupby(['CompanyID*', 'Company Name', 'Sector'])['Year'].nunique().max())\n",
    "# This means that each company only has 1 year-month a year.\n",
    "# 2022 - 2002 + 1 = 21"
   ]
  },
  {
   "cell_type": "code",
   "execution_count": null,
   "id": "de6b2d62-9abc-4fec-af5f-41f01be11214",
   "metadata": {
    "tags": []
   },
   "outputs": [],
   "source": [
    "# Note: CompanyID and CompanyID + Company Name both gave same number of rows\n",
    "agg_dict_final = dict(list(agg_dict.items())[:]) # subset for debugging\n",
    "# We aggregate to the year level\n",
    "df_groupby = df.groupby(['Year', 'CompanyID*', 'Company Name', 'Sector']).agg(agg_dict_final).reset_index()\n",
    "df_groupby"
   ]
  },
  {
   "cell_type": "markdown",
   "id": "377bb669-2f90-44d9-bb97-de5f5460ec3c",
   "metadata": {
    "tags": []
   },
   "source": [
    "# Additional 1: Get shares by gender"
   ]
  },
  {
   "cell_type": "code",
   "execution_count": null,
   "id": "38e4e40a-9cab-43a1-9d08-a7c3eccb7b0a",
   "metadata": {},
   "outputs": [],
   "source": [
    "# Get shares by gender\n",
    "df_charac = pd.DataFrame(df.groupby(['CompanyID*', 'Year', 'Director Experience - Gender'])['Director Experience - Gender'].count())\n",
    "df_charac.columns = ['count']\n",
    "df_charac = df_charac.reset_index()\n",
    "df_charac = df_charac.pivot(index=['CompanyID*', 'Year'], columns='Director Experience - Gender', values='count')\n",
    "df_charac = df_charac.fillna(0)\n",
    "df_charac['sum'] = df_charac.sum(axis=1)\n",
    "df_charac['Director Experience - Gender - Share of Males'] = df_charac['M'] / df_charac['sum']\n",
    "df_charac = df_charac.drop(columns=['F', 'M', 'sum'])\n",
    "df_charac = df_charac.reset_index()\n",
    "df_charac_gender = df_charac.copy()\n",
    "df_charac_gender"
   ]
  },
  {
   "cell_type": "markdown",
   "id": "1d08eb03-4a8e-47dd-a5f3-1815216e1cf9",
   "metadata": {
    "tags": []
   },
   "source": [
    "# Additional 2: Get shares by nationality"
   ]
  },
  {
   "cell_type": "markdown",
   "id": "9671fbbe-bde1-41dd-a97c-f6ec14654df7",
   "metadata": {
    "tags": []
   },
   "source": [
    "We want the following variables:\n",
    "- Share American\n",
    "- Share Canadian\n",
    "- Share British\n",
    "- Share European (not British, incl. Swiss)\n",
    "- Share Asian\n",
    "\n",
    "American, Canadian and British are individual countries and so are already there, but we need to aggregate countries for European and Asian variables.\n",
    "\n",
    "Countries in Europe: Albania, Andorra, Austria, Belarus, Belgium, Bosnia and Herzegovina, Bulgaria, Croatia, Cyprus, \n",
    "Czech Republic, Denmark, Estonia, Finland, France, Germany, Greece, Hungary, Iceland, Republic of Ireland, \n",
    "Italy, Kosovo, Latvia, Liechtenstein, Lithuania, Luxembourg, North Macedonia, Malta, Moldova, Monaco, \n",
    "Montenegro, Netherlands, Norway, Poland, Portugal, Romania, Russia, San Marino, Serbia, Slovakia, \n",
    "Slovenia, Spain, Sweden, Switzerland, Turkey, Ukraine, Vatican City\n",
    "\n",
    "Countries in Asia: Afghanistan, Armenia, Azerbaijan, Bahrain, Bangladesh, Bhutan, Brunei, Cambodia, China, East Timor, Georgia, India, Indonesia, Iran,\n",
    "Iraq, Israel, Japan, Jordan, Kazakhstan, Kuwait, Kyrgyzstan, Laos, Lebanon, Malaysia, The Maldives, Mongolia,\n",
    "Myanmar (Burma), Nepal, North Korea, Oman, Pakistan, Palestine, The Philippines, Qatar, Saudi Arabia,\n",
    "Singapore, South Korea, Sri Lanka, Syria, Taiwan, Tajikistan, Thailand, Turkmenistan, United Arab Emirates, Uzbekistan, Vietnam, Yemen"
   ]
  },
  {
   "cell_type": "code",
   "execution_count": null,
   "id": "5ddc39de-ff96-45f6-94ae-052f40e6fb7d",
   "metadata": {},
   "outputs": [],
   "source": [
    "initial_nationalities = sorted(pd.Series(df['Director Experience - Nationality Mix'].unique()).dropna())\n",
    "print('Initial Nationalities:', initial_nationalities)"
   ]
  },
  {
   "cell_type": "code",
   "execution_count": null,
   "id": "37877f1c-584e-4738-b9ea-7d29153456f4",
   "metadata": {},
   "outputs": [],
   "source": [
    "# Define European and Asian nationalities\n",
    "european_nationalities = ['Austrian', 'Belarusian', 'Belgian', 'Bosnian', 'Bulgarian', 'Croatian', 'Cypriot', 'Czech', 'Danish', \n",
    "                          'Dutch',  'Finnish', 'French', 'German', 'Greek', 'Hungarian', 'Icelander', 'Irish', 'Italian', \n",
    "                          'Luxembourger', 'Maltese', 'Monacan', 'Norwegian', 'Polish', 'Portuguese', 'Romanian', 'Russian', \n",
    "                          'Slovak', 'Slovene', 'Spanish', 'Swedish', 'Swiss', 'Turkish', 'Ukrainian']\n",
    "asian_nationalities = ['Armenian', 'Bahraini', 'Burmese', 'Chinese', 'Chinese (Taiwan)', 'Emirian', 'Filipino', 'Georgian', \n",
    "                       'Indian', 'Indonesian', 'Iranian', 'Iraqi', 'Israeli', 'Japanese', 'Jordanian', 'Kazakhstani',\n",
    "                       'Kuwaiti', 'Malaysian', 'Omani', 'Pakistani', 'Qatari', 'Saudi', 'Singaporean',\n",
    "                       'South Korean', 'Sri Lankan', 'Syrian', 'Thai']"
   ]
  },
  {
   "cell_type": "code",
   "execution_count": null,
   "id": "f773d49f-876e-4b7c-abd2-c69e22b4d314",
   "metadata": {},
   "outputs": [],
   "source": [
    "# Get counts by nationality\n",
    "df_charac = pd.DataFrame(df.groupby(['CompanyID*', 'Year', 'Director Experience - Nationality Mix'])['Director Experience - Nationality Mix'].count())\n",
    "df_charac.columns = ['count']\n",
    "df_charac = df_charac.reset_index()\n",
    "df_charac = df_charac.pivot(index=['CompanyID*', 'Year'], columns='Director Experience - Nationality Mix', values='count')\n",
    "df_charac = df_charac.fillna(0)\n",
    "\n",
    "# Get total number of directors for each (company, year)\n",
    "df_charac['sum'] = df_charac.sum(axis=1)\n",
    "df_charac"
   ]
  },
  {
   "cell_type": "code",
   "execution_count": null,
   "id": "ad86de64-c24f-479d-bd02-a70ba3ab48f2",
   "metadata": {},
   "outputs": [],
   "source": [
    "# Get most common nationalities, but return NaN if there is a tie\n",
    "most_common_nationalities_var_list = ['Director Experience - Nationality Mix - Most Common Nationality']\n",
    "# , 'Director Experience - Nationality Mix - 2nd Most Common Nationality', 'Director Experience - Nationality Mix - 3rd Most Common Nationality']\n",
    "df_charac[most_common_nationalities_var_list] = df_charac[initial_nationalities].apply(lambda row: pd.Series(row.sort_values(ascending=False).index[:1]), axis=1)\n",
    "# df_charac[most_common_nationalities_var_list] = df_charac.apply(lambda row: pd.Series(row.sort_values(ascending=False).index[:3]), axis=1)\n",
    "\n",
    "# Get counts of European and Asian nationalities\n",
    "df_charac['European'] = df_charac[european_nationalities].sum(axis=1)\n",
    "df_charac['Asian'] = df_charac[asian_nationalities].sum(axis=1)\n",
    "\n",
    "# Keep only desired variables\n",
    "df_charac = df_charac[['American', 'Canadian', 'British', 'European', 'Asian', 'sum'] + most_common_nationalities_var_list]\n",
    "df_charac"
   ]
  },
  {
   "cell_type": "code",
   "execution_count": null,
   "id": "9c96787f-e216-4a88-bd12-6db279cda264",
   "metadata": {},
   "outputs": [],
   "source": [
    "# Get shares by nationality\n",
    "nationalities_list = df_charac.columns.drop(['sum'] + most_common_nationalities_var_list)\n",
    "print('Nationalities:', nationalities_list)\n",
    "for charac in nationalities_list:\n",
    "    df_charac[f'Director Experience - Nationality Mix - Share of {charac}'] = df_charac[charac] / df_charac['sum']\n",
    "    df_charac = df_charac.drop(columns=[charac])\n",
    "df_charac = df_charac.drop(columns='sum')\n",
    "\n",
    "df_charac = df_charac.reset_index()\n",
    "df_charac_nationality = df_charac.copy()\n",
    "df_charac_nationality"
   ]
  },
  {
   "cell_type": "markdown",
   "id": "66b8bfa2-9dbf-4022-a79c-9cb00a3fbda7",
   "metadata": {
    "tags": []
   },
   "source": [
    "# Additional 3: Get CEO and CFO education variables, compensation ratios, time in role and time on board"
   ]
  },
  {
   "cell_type": "code",
   "execution_count": null,
   "id": "4aabdfef-f7e4-4cfb-8f90-e1930174cef9",
   "metadata": {},
   "outputs": [],
   "source": [
    "colstokeep_identifiers = ['CompanyID*', 'Year']\n",
    "colstokeep_variables = ['Ratios - Bonus/ (Bonus&Salary)','Ratios - Equity Linked/ Total', 'Ratios - Performance/ Total', \n",
    "                        'Ratios - Wealth Delta',\n",
    "                        'Highest Ranked Degree - Institution Name', 'Highest Ranked Degree - InstitutionID*', \n",
    "                        'Highest Ranked Degree - Qualification', 'Highest Ranked Degree - Country',\n",
    "                        'Characteristics of Roles - Time in Role', 'Characteristics of Roles - Time on Board']"
   ]
  },
  {
   "cell_type": "code",
   "execution_count": null,
   "id": "ebdd4213-0c40-4b20-a81f-538824d56f43",
   "metadata": {},
   "outputs": [],
   "source": [
    "def process_ceo_and_cfo_datasets(df, ceo_or_cfo, colstokeep_identifiers, colstokeep_variables):\n",
    "    df = df[df[ceo_or_cfo] == True]\n",
    "    df_groupby = df.groupby(['CompanyID*', 'Year']).first().reset_index()\n",
    "    df_groupby = df_groupby[colstokeep_identifiers + colstokeep_variables]\n",
    "    colstokeep_variables_renamed = [ceo_or_cfo + ' - ' + var for var in colstokeep_variables]\n",
    "    colstokeep_variables_dict = {key: value for key, value in zip(colstokeep_variables, colstokeep_variables_renamed)}\n",
    "    df_groupby = df_groupby.rename(columns=colstokeep_variables_dict)\n",
    "    return df_groupby"
   ]
  },
  {
   "cell_type": "code",
   "execution_count": null,
   "id": "5d26b551-017f-4236-b6d7-e138ef24da8f",
   "metadata": {},
   "outputs": [],
   "source": [
    "df_ceo_groupby = process_ceo_and_cfo_datasets(df, 'CEO', colstokeep_identifiers, colstokeep_variables)\n",
    "df_cfo_groupby = process_ceo_and_cfo_datasets(df, 'CFO', colstokeep_identifiers, colstokeep_variables)\n",
    "df_ceo_groupby"
   ]
  },
  {
   "cell_type": "code",
   "execution_count": null,
   "id": "233ff251-1780-4198-b773-81401e437754",
   "metadata": {},
   "outputs": [],
   "source": [
    "# Combine the ceo and cfo datasets\n",
    "df_ceo_cfo = df_ceo_groupby.merge(df_cfo_groupby, on=['CompanyID*', 'Year'], how='outer')\n",
    "df_ceo_cfo"
   ]
  },
  {
   "cell_type": "markdown",
   "id": "71604571",
   "metadata": {
    "tags": []
   },
   "source": [
    "# Additional 4: Get Company Details"
   ]
  },
  {
   "cell_type": "code",
   "execution_count": null,
   "id": "e9dd469e",
   "metadata": {},
   "outputs": [],
   "source": [
    "df_companydetails = pd.read_csv(Path(inputfolder / \"Company Details.csv\"), low_memory=False)\n",
    "df_companydetails"
   ]
  },
  {
   "cell_type": "code",
   "execution_count": null,
   "id": "49488a9b-2544-4cb5-a34f-99f74ab3ebd3",
   "metadata": {},
   "outputs": [],
   "source": [
    "df_companydetails.columns"
   ]
  },
  {
   "cell_type": "code",
   "execution_count": null,
   "id": "c59eb7b7-8062-47f2-a92f-d096bc3792c4",
   "metadata": {},
   "outputs": [],
   "source": [
    "colstokeep = ['CIK Code', 'Auditors', 'Latest AR', 'Bankers', 'Index', 'Ticker', 'Market Cap', 'CompanyID*', 'HOCountryName']"
   ]
  },
  {
   "cell_type": "code",
   "execution_count": null,
   "id": "9da71d35",
   "metadata": {},
   "outputs": [],
   "source": [
    "df_companydetails = df_companydetails.drop_duplicates(['CompanyID*'])\n",
    "df_companydetails = df_companydetails[colstokeep]\n",
    "df_companydetails.to_csv(r'C:\\Users\\jasonjia\\Dropbox\\projects\\manager_and_board_characteristics\\Board Charac_Jason\\output\\03_get_firm_and_manager_level_datasets\\Company Details.csv', index=False)\n",
    "df_companydetails"
   ]
  },
  {
   "cell_type": "markdown",
   "id": "a5149ca2",
   "metadata": {
    "tags": []
   },
   "source": [
    "# Final: Merge df with the additional variables"
   ]
  },
  {
   "cell_type": "code",
   "execution_count": null,
   "id": "39b1ec9b",
   "metadata": {},
   "outputs": [],
   "source": [
    "df_merge = df_groupby.merge(df_charac_gender, how='left', on=['CompanyID*', 'Year'])\n",
    "df_merge = df_merge.merge(df_charac_nationality, how='left', on=['CompanyID*', 'Year'])\n",
    "df_merge = df_merge.merge(df_ceo_cfo, how='left', on=['CompanyID*', 'Year'])\n",
    "df_merge = df_merge.merge(df_companydetails, how='inner', on=['CompanyID*'])\n",
    "df_merge"
   ]
  },
  {
   "cell_type": "markdown",
   "id": "c55db18d-faf0-4442-8e4f-1451c2cb8fa1",
   "metadata": {},
   "source": [
    "# Rename df to satisfy Stata variable name restrictions\n",
    "- Variable names must start with a letter.\n",
    "- Variable names can contain letters, numbers, underscores (_), and periods (.), but cannot contain spaces or special characters (such as @, #, $, %, etc.).\n",
    "- Variable names are case-sensitive. For example, \"myvar\" and \"MyVar\" are considered distinct variables.\n",
    "- Variable names can have a maximum length of 32 characters. However, Stata versions prior to Stata 16 have a maximum limit of variable names with variable labels to 32 characters.\n",
    "- Variable names cannot be the same as any of Stata's reserved words (e.g., \"if\", \"in\", \"by\", \"from\", etc.)."
   ]
  },
  {
   "cell_type": "code",
   "execution_count": null,
   "id": "6aada4b0-b218-40cb-a2fd-7bf9233e70a0",
   "metadata": {},
   "outputs": [],
   "source": [
    "# First convert every column to lower case\n",
    "df_merge.columns = df_merge.columns.str.lower()\n",
    "df_merge.columns"
   ]
  },
  {
   "cell_type": "code",
   "execution_count": null,
   "id": "55b1e608-e82d-4cca-aad6-9ff9b4273bf3",
   "metadata": {},
   "outputs": [],
   "source": [
    "# Manually define how to rename variables\n",
    "df_merge_rename_dict = {'companyid*': 'company_id', \n",
    "                        'company name': 'company_name', \n",
    "                        'characteristics of roles - director network size': 'director_network_size',\n",
    "                        'characteristics of roles - time to retirement': 'time_to_retirement',\n",
    "                        'characteristics of roles - time in role': 'time_in_role',\n",
    "                        'characteristics of roles - time on board': 'time_on_board',\n",
    "                        'characteristics of roles - time in company': 'time_in_company',\n",
    "                        'director experience - total number of quoted boards to date': 'total_quoted_boards_to_date',\n",
    "                        'director experience - total number of private boards to date': 'total_private_boards_to_date',\n",
    "                        'director experience - total number of other boards to date': 'total_other_boards_to_date',\n",
    "                        'director experience - total number of quoted current boards': 'total_quoted_boards_current',\n",
    "                        'director experience - total number of private current boards': 'total_private_boards_current',\n",
    "                        'director experience - total number of other current boards': 'total_other_boards_current',\n",
    "                        'director experience - avg. yrs on other quoted boards': 'avg_years_other_quoted_boards',\n",
    "                        'director experience - age (yrs)': 'age',\n",
    "                        'director experience - number of qualifications': 'num_qualifications',\n",
    "                        'ratios - bonus/ (bonus&salary)': 'bonus_over_bonus_and_salary', \n",
    "                        'ratios - equity linked/ total': 'equity_linked_over_total',\n",
    "                        'ratios - performance/ total': 'performance_over_total', \n",
    "                        'ratios - wealth delta': 'wealth_delta',\n",
    "                        'director count totals - number of independent ned with past cfo/fd role': 'num_ind_ned_w_past_cfo_fd_role',\n",
    "                        'annual direct compensation - salary': 'annual_dir_comp_salary',\n",
    "                        'annual direct compensation - bonus': 'annual_dir_comp_bonus',\n",
    "                        'annual direct compensation - d.c pension': 'annual_dir_comp_dc_pension',\n",
    "                        'annual direct compensation - other': 'annual_dir_comp_other',\n",
    "                        'annual direct compensation - total salary+bonus': 'annual_dir_comp_salary_and_bonus',\n",
    "                        'annual direct compensation - total inc. d.c. pension & other': 'annual_dir_comp_total',\n",
    "                        'annual- equity linked options - shares': 'annual_eq_opt_shares',\n",
    "                        'annual- equity linked options - ltips(max)': 'annual_eq_opt_ltips',\n",
    "                        'annual- equity linked options - intrinsic options (excercisable)': 'annual_eq_opt_intrinsic_exer',\n",
    "                        'annual- equity linked options - intrinsic options (unexercisable)': 'annual_eq_opt_intrinsic_unexer',\n",
    "                        'annual- equity linked options - estimated options (exercisable)': 'annual_eq_opt_est_exer',\n",
    "                        'annual- equity linked options - estimated options (unexcercisable)': 'annual_eq_opt_est_unexer',\n",
    "                        'annual- equity linked options - share price': 'annual_eq_opt_share_price',\n",
    "                        'annual- equity linked options - total equity linked compensation': 'annual_eq_opt_total_comp',\n",
    "                        'total - total annual compensation': 'total_annual_comp', \n",
    "                        'accumulated wealth - shares': 'acc_wealth_shares',\n",
    "                        'accumulated wealth - ltips(max)': 'acc_wealth_ltips',\n",
    "                        'accumulated wealth - intrinsic option': 'acc_wealth_intrinsic_opt',\n",
    "                        'accumulated wealth - estimated option': 'acc_wealth_est_opt',\n",
    "                        'accumulated wealth - liquid wealth': 'acc_wealth_liquid_wealth', \n",
    "                        'total wealth - total wealth': 'total_wealth',\n",
    "                        'director experience - gender - share of males': 'share_males',\n",
    "                        'director experience - nationality mix - most common nationality': 'most_common_nationality',\n",
    "                        'director experience - nationality mix - share of american': 'share_american',\n",
    "                        'director experience - nationality mix - share of canadian': 'share_canadian',\n",
    "                        'director experience - nationality mix - share of british': 'share_british',\n",
    "                        'director experience - nationality mix - share of european': 'share_european',\n",
    "                        'director experience - nationality mix - share of asian': 'share_asian',\n",
    "                        'ceo - ratios - bonus/ (bonus&salary)': 'ceo_bonus_over_bonus_and_salary',\n",
    "                        'ceo - ratios - equity linked/ total': 'ceo_equity_linked_over_total',\n",
    "                        'ceo - ratios - performance/ total': 'ceo_performance_over_total', \n",
    "                        'ceo - ratios - wealth delta': 'ceo_wealth_delta',\n",
    "                        'ceo - highest ranked degree - institution name': 'ceo_degree_institution_name',\n",
    "                        'ceo - highest ranked degree - institutionid*': 'ceo_degree_institution_id',\n",
    "                        'ceo - highest ranked degree - qualification': 'ceo_degree_qualification',\n",
    "                        'ceo - highest ranked degree - country': 'ceo_degree_country',\n",
    "                        'ceo - characteristics of roles - time in role': 'ceo_time_in_role',\n",
    "                        'ceo - characteristics of roles - time on board': 'ceo_time_on_board',\n",
    "                        'cfo - ratios - bonus/ (bonus&salary)': 'cfo_bonus_over_bonus_and_salary',\n",
    "                        'cfo - ratios - equity linked/ total': 'cfo_equity_linked_over_total',\n",
    "                        'cfo - ratios - performance/ total': 'cfo_performance_over_total', \n",
    "                        'cfo - ratios - wealth delta': 'cfo_wealth_delta',\n",
    "                        'cfo - highest ranked degree - institution name': 'cfo_degree_institution_name',\n",
    "                        'cfo - highest ranked degree - institutionid*': 'cfo_degree_institution_id',\n",
    "                        'cfo - highest ranked degree - qualification': 'cfo_degree_qualification',\n",
    "                        'cfo - highest ranked degree - country': 'cfo_degree_country',\n",
    "                        'cfo - characteristics of roles - time in role': 'cfo_time_in_role',\n",
    "                        'cfo - characteristics of roles - time on board': 'cfo_time_on_board', \n",
    "                        'cik code': 'cik_code',\n",
    "                        'latest ar': 'latest_ar',\n",
    "                        'market cap': 'market_cap',\n",
    "                        'hocountryname': 'ho_country_name'\n",
    "                       }"
   ]
  },
  {
   "cell_type": "code",
   "execution_count": null,
   "id": "57fb0912-204d-46be-a428-150fdcbf458a",
   "metadata": {},
   "outputs": [],
   "source": [
    "df_merge = df_merge.rename(columns=df_merge_rename_dict)\n",
    "for col in df_merge.columns:\n",
    "    print(col)"
   ]
  },
  {
   "cell_type": "markdown",
   "id": "2a14e1b9-76df-4d40-a46c-179e77c54080",
   "metadata": {
    "tags": []
   },
   "source": [
    "# Remove non-ASCII characters from df to satisfy Stata character restrictions\n",
    "This is because Unicode characters that are not ASCII characters can't be saved into Stata. \n",
    "\n",
    "Examples:\n",
    "- Latin characters with diacritics: Characters such as é, ñ, or ö are not part of the ASCII character set.\n",
    "- Non-Latin characters: Characters from non-Latin scripts, such as Cyrillic, Greek, or Arabic, are not part of ASCII. Examples include ф (Cyrillic letter ef), β (Greek letter beta), or ش (Arabic letter sheen).\n",
    "- Symbolic and special characters: Various symbols, emojis, mathematical symbols, currency symbols, and other special characters are not part of ASCII. Examples include ♫, ❤, €, ★, or ⌘.\n",
    "- Control characters: Certain characters with special control functions, such as the null character (\\0), backspace (\\b), or carriage return (\\r), are also not part of ASCII."
   ]
  },
  {
   "cell_type": "code",
   "execution_count": null,
   "id": "4789d49e-3e01-4329-b36c-a967f26df32c",
   "metadata": {},
   "outputs": [],
   "source": [
    "# Function to remove non-ASCII characters from a string\n",
    "def remove_non_ascii(text):\n",
    "    if isinstance(text, str):\n",
    "        return ''.join(char for char in text if ord(char) < 128)\n",
    "    else:\n",
    "        return text\n",
    "\n",
    "# Apply function to columns with string data type\n",
    "df_merge = df_merge.applymap(remove_non_ascii)\n",
    "df_merge"
   ]
  },
  {
   "cell_type": "markdown",
   "id": "4f6e584b-5e15-4916-96de-fbd416c001b8",
   "metadata": {
    "tags": []
   },
   "source": [
    "# Save final df into csv"
   ]
  },
  {
   "cell_type": "code",
   "execution_count": null,
   "id": "3bd581d5-f955-4766-8ef0-453b356c888a",
   "metadata": {},
   "outputs": [],
   "source": [
    "outputfilename = 'boardex_firm_level_dataset'"
   ]
  },
  {
   "cell_type": "code",
   "execution_count": null,
   "id": "30d41b84-3462-4a99-8dae-a3969010789d",
   "metadata": {},
   "outputs": [],
   "source": [
    "# Save as csv\n",
    "outputfilepath = Path(outputfolder / Path(outputfilename + '.csv'))\n",
    "df_merge.to_csv(outputfilepath, index=False)"
   ]
  },
  {
   "cell_type": "code",
   "execution_count": null,
   "id": "be587268-47ba-4f6a-b45d-e187af1977af",
   "metadata": {},
   "outputs": [],
   "source": [
    "# Save as Stata file\n",
    "outputfilepath = Path(outputfolder / Path(outputfilename + '.dta'))\n",
    "df_merge.to_stata(outputfilepath, write_index=False, version=117)"
   ]
  },
  {
   "cell_type": "code",
   "execution_count": null,
   "id": "3cb94d37-7abb-4de5-9d2a-cfb0fc9953f4",
   "metadata": {},
   "outputs": [],
   "source": []
  }
 ],
 "metadata": {
  "kernelspec": {
   "display_name": "Python 3 (ipykernel)",
   "language": "python",
   "name": "python3"
  },
  "language_info": {
   "codemirror_mode": {
    "name": "ipython",
    "version": 3
   },
   "file_extension": ".py",
   "mimetype": "text/x-python",
   "name": "python",
   "nbconvert_exporter": "python",
   "pygments_lexer": "ipython3",
   "version": "3.9.7"
  }
 },
 "nbformat": 4,
 "nbformat_minor": 5
}
