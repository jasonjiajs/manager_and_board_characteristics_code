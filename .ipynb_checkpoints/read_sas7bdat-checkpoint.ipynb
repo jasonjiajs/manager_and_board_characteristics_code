{
 "cells": [
  {
   "cell_type": "code",
   "execution_count": 4,
   "id": "8803e952",
   "metadata": {},
   "outputs": [],
   "source": [
    "import pandas as pd\n",
    "from pathlib import Path"
   ]
  },
  {
   "cell_type": "code",
   "execution_count": 5,
   "id": "cebaf775",
   "metadata": {},
   "outputs": [],
   "source": [
    "inputpath = Path(r\"C:\\Users\\jasonjia\\Dropbox\\Projects\\boardex_and_execucomp\\output\\gvkey_isin_names_conversion\\gvkey_to_isin_missing.sas7bdat\")\n",
    "outputpath = Path(r\"C:\\Users\\jasonjia\\Dropbox\\Projects\\boardex_and_execucomp\\output\\gvkey_isin_names_conversion\\gvkey_to_isin_missing.xlsx\")"
   ]
  },
  {
   "cell_type": "code",
   "execution_count": 6,
   "id": "653c93aa",
   "metadata": {},
   "outputs": [],
   "source": [
    "def convert_sas7bdat_to_excel(inputpath, outputpath):\n",
    "    df = pd.read_sas(inputpath)\n",
    "    for i in df:\n",
    "        if df[i].dtype == 'O':\n",
    "            df[i] = df[i].str.decode('UTF-8')\n",
    "    df.to_excel(outputpath, index=False)\n",
    "    return df"
   ]
  },
  {
   "cell_type": "code",
   "execution_count": 7,
   "id": "691a0a4a",
   "metadata": {},
   "outputs": [],
   "source": [
    "df = convert_sas7bdat_to_excel(inputpath, outputpath)"
   ]
  },
  {
   "cell_type": "code",
   "execution_count": 9,
   "id": "5ab12880",
   "metadata": {},
   "outputs": [
    {
     "data": {
      "text/html": [
       "<div>\n",
       "<style scoped>\n",
       "    .dataframe tbody tr th:only-of-type {\n",
       "        vertical-align: middle;\n",
       "    }\n",
       "\n",
       "    .dataframe tbody tr th {\n",
       "        vertical-align: top;\n",
       "    }\n",
       "\n",
       "    .dataframe thead th {\n",
       "        text-align: right;\n",
       "    }\n",
       "</style>\n",
       "<table border=\"1\" class=\"dataframe\">\n",
       "  <thead>\n",
       "    <tr style=\"text-align: right;\">\n",
       "      <th></th>\n",
       "      <th>COMPANYID</th>\n",
       "      <th>ISIN</th>\n",
       "      <th>COMPANYNAME</th>\n",
       "    </tr>\n",
       "  </thead>\n",
       "  <tbody>\n",
       "    <tr>\n",
       "      <th>0</th>\n",
       "      <td>23515.0</td>\n",
       "      <td>XS0478083164</td>\n",
       "      <td>The Toronto-Dominion Bank</td>\n",
       "    </tr>\n",
       "    <tr>\n",
       "      <th>1</th>\n",
       "      <td>23515.0</td>\n",
       "      <td>XS0477559560</td>\n",
       "      <td>The Toronto-Dominion Bank</td>\n",
       "    </tr>\n",
       "    <tr>\n",
       "      <th>2</th>\n",
       "      <td>23515.0</td>\n",
       "      <td>XS0483939699</td>\n",
       "      <td>The Toronto-Dominion Bank</td>\n",
       "    </tr>\n",
       "    <tr>\n",
       "      <th>3</th>\n",
       "      <td>23515.0</td>\n",
       "      <td>XS0480029197</td>\n",
       "      <td>The Toronto-Dominion Bank</td>\n",
       "    </tr>\n",
       "    <tr>\n",
       "      <th>4</th>\n",
       "      <td>23515.0</td>\n",
       "      <td>CA891145EJ96</td>\n",
       "      <td>The Toronto-Dominion Bank</td>\n",
       "    </tr>\n",
       "    <tr>\n",
       "      <th>...</th>\n",
       "      <td>...</td>\n",
       "      <td>...</td>\n",
       "      <td>...</td>\n",
       "    </tr>\n",
       "    <tr>\n",
       "      <th>22010</th>\n",
       "      <td>240584396.0</td>\n",
       "      <td>VGG6564A1057</td>\n",
       "      <td>Nomad Foods Limited</td>\n",
       "    </tr>\n",
       "    <tr>\n",
       "      <th>22011</th>\n",
       "      <td>364606463.0</td>\n",
       "      <td>US2381085008</td>\n",
       "      <td>U.S. Gold Corp.</td>\n",
       "    </tr>\n",
       "    <tr>\n",
       "      <th>22012</th>\n",
       "      <td>364606463.0</td>\n",
       "      <td>CA90291C1023</td>\n",
       "      <td>U.S. Gold Corp.</td>\n",
       "    </tr>\n",
       "    <tr>\n",
       "      <th>22013</th>\n",
       "      <td>364606463.0</td>\n",
       "      <td>US90291C1027</td>\n",
       "      <td>U.S. Gold Corp.</td>\n",
       "    </tr>\n",
       "    <tr>\n",
       "      <th>22014</th>\n",
       "      <td>364606463.0</td>\n",
       "      <td>US90291C2017</td>\n",
       "      <td>U.S. Gold Corp.</td>\n",
       "    </tr>\n",
       "  </tbody>\n",
       "</table>\n",
       "<p>22015 rows × 3 columns</p>\n",
       "</div>"
      ],
      "text/plain": [
       "         COMPANYID          ISIN                COMPANYNAME\n",
       "0          23515.0  XS0478083164  The Toronto-Dominion Bank\n",
       "1          23515.0  XS0477559560  The Toronto-Dominion Bank\n",
       "2          23515.0  XS0483939699  The Toronto-Dominion Bank\n",
       "3          23515.0  XS0480029197  The Toronto-Dominion Bank\n",
       "4          23515.0  CA891145EJ96  The Toronto-Dominion Bank\n",
       "...            ...           ...                        ...\n",
       "22010  240584396.0  VGG6564A1057        Nomad Foods Limited\n",
       "22011  364606463.0  US2381085008            U.S. Gold Corp.\n",
       "22012  364606463.0  CA90291C1023            U.S. Gold Corp.\n",
       "22013  364606463.0  US90291C1027            U.S. Gold Corp.\n",
       "22014  364606463.0  US90291C2017            U.S. Gold Corp.\n",
       "\n",
       "[22015 rows x 3 columns]"
      ]
     },
     "execution_count": 9,
     "metadata": {},
     "output_type": "execute_result"
    }
   ],
   "source": [
    "df"
   ]
  }
 ],
 "metadata": {
  "kernelspec": {
   "display_name": "Python 3 (ipykernel)",
   "language": "python",
   "name": "python3"
  },
  "language_info": {
   "codemirror_mode": {
    "name": "ipython",
    "version": 3
   },
   "file_extension": ".py",
   "mimetype": "text/x-python",
   "name": "python",
   "nbconvert_exporter": "python",
   "pygments_lexer": "ipython3",
   "version": "3.9.7"
  }
 },
 "nbformat": 4,
 "nbformat_minor": 5
}
