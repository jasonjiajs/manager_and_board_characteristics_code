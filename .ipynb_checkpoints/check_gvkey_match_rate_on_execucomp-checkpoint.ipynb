{
 "cells": [
  {
   "cell_type": "code",
   "execution_count": 1,
   "id": "39afa83b",
   "metadata": {},
   "outputs": [],
   "source": [
    "import pandas as pd\n",
    "import os\n",
    "from pathlib import Path"
   ]
  },
  {
   "cell_type": "code",
   "execution_count": 2,
   "id": "d4f947da",
   "metadata": {},
   "outputs": [],
   "source": [
    "# settings to display all columns and rows\n",
    "pd.set_option(\"display.max_columns\", None)"
   ]
  },
  {
   "cell_type": "code",
   "execution_count": 7,
   "id": "5302143b",
   "metadata": {},
   "outputs": [
    {
     "data": {
      "text/plain": [
       "WindowsPath('C:/Users/jasonjia/Dropbox/Projects/boardex_and_execucomp/output/execucomp_data')"
      ]
     },
     "execution_count": 7,
     "metadata": {},
     "output_type": "execute_result"
    }
   ],
   "source": [
    "# Convert all .sas7bdat files to .xlsx files"
   ]
  },
  {
   "cell_type": "code",
   "execution_count": 20,
   "id": "9db0aa25",
   "metadata": {},
   "outputs": [],
   "source": [
    "def convert_sas7bdat_to_excel(inputpath):\n",
    "    df = pd.read_sas(inputpath)\n",
    "    df = df.copy()\n",
    "    outputpath = Path(inputpath.parent, inputpath.stem + \".xlsx\")\n",
    "    if os.path.exists(outputpath):\n",
    "        print(\".xlsx already exists, skipping this .sas7bdat file\")\n",
    "    else:\n",
    "        for i in df:\n",
    "            if df[i].dtype == 'O':\n",
    "                df[i] = df[i].str.decode('UTF-8')\n",
    "        print(\"df.shape:\", df.shape)\n",
    "        if df.shape[0] <= 1000000:\n",
    "            df.to_excel(outputpath, index=False)\n",
    "            print(\"df saved to excel\")\n",
    "        else:\n",
    "            print(\"df has > 1 mil rows, cannot be saved to excel\")"
   ]
  },
  {
   "cell_type": "code",
   "execution_count": 21,
   "id": "22ef3eba",
   "metadata": {},
   "outputs": [
    {
     "name": "stdout",
     "output_type": "stream",
     "text": [
      "C:\\Users\\jasonjia\\Dropbox\\Projects\\boardex_and_execucomp\\output\\execucomp_data\\anncomp.sas7bdat\n"
     ]
    },
    {
     "name": "stderr",
     "output_type": "stream",
     "text": [
      "C:\\Users\\jasonjia\\Anaconda3\\lib\\site-packages\\pandas\\io\\sas\\sas7bdat.py:800: PerformanceWarning: DataFrame is highly fragmented.  This is usually the result of calling `frame.insert` many times, which has poor performance.  Consider joining all columns at once using pd.concat(axis=1) instead.  To get a de-fragmented frame, use `newframe = frame.copy()`\n",
      "  rslt[name] = self._byte_chunk[jb, :].view(dtype=self.byte_order + \"d\")\n"
     ]
    },
    {
     "name": "stdout",
     "output_type": "stream",
     "text": [
      ".xlsx already exists, skipping this .sas7bdat file\n",
      "C:\\Users\\jasonjia\\Dropbox\\Projects\\boardex_and_execucomp\\output\\execucomp_data\\codirfin.sas7bdat\n",
      "df.shape: (26187, 71)\n",
      "df saved to excel\n",
      "C:\\Users\\jasonjia\\Dropbox\\Projects\\boardex_and_execucomp\\output\\execucomp_data\\colev.sas7bdat\n",
      "df.shape: (3915, 18)\n",
      "df saved to excel\n",
      "C:\\Users\\jasonjia\\Dropbox\\Projects\\boardex_and_execucomp\\output\\execucomp_data\\coperol.sas7bdat\n",
      "df.shape: (63403, 14)\n",
      "df saved to excel\n",
      "C:\\Users\\jasonjia\\Dropbox\\Projects\\boardex_and_execucomp\\output\\execucomp_data\\deferredcomp.sas7bdat\n",
      "df.shape: (60331, 46)\n",
      "df saved to excel\n",
      "C:\\Users\\jasonjia\\Dropbox\\Projects\\boardex_and_execucomp\\output\\execucomp_data\\directorcomp.sas7bdat\n",
      "df.shape: (142230, 28)\n",
      "df saved to excel\n",
      "C:\\Users\\jasonjia\\Dropbox\\Projects\\boardex_and_execucomp\\output\\execucomp_data\\exnames.sas7bdat\n",
      "df.shape: (3906, 5)\n",
      "df saved to excel\n",
      "C:\\Users\\jasonjia\\Dropbox\\Projects\\boardex_and_execucomp\\output\\execucomp_data\\ex_black.sas7bdat\n",
      "df.shape: (15, 6)\n",
      "df saved to excel\n",
      "C:\\Users\\jasonjia\\Dropbox\\Projects\\boardex_and_execucomp\\output\\execucomp_data\\ex_header.sas7bdat\n",
      "df.shape: (63459, 38)\n",
      "df saved to excel\n",
      "C:\\Users\\jasonjia\\Dropbox\\Projects\\boardex_and_execucomp\\output\\execucomp_data\\ltawdtab.sas7bdat\n",
      "df.shape: (6606, 48)\n",
      "df saved to excel\n",
      "C:\\Users\\jasonjia\\Dropbox\\Projects\\boardex_and_execucomp\\output\\execucomp_data\\outstandingawards.sas7bdat\n",
      "df.shape: (569005, 50)\n",
      "df saved to excel\n",
      "C:\\Users\\jasonjia\\Dropbox\\Projects\\boardex_and_execucomp\\output\\execucomp_data\\pension.sas7bdat\n",
      "df.shape: (65362, 44)\n",
      "df saved to excel\n",
      "C:\\Users\\jasonjia\\Dropbox\\Projects\\boardex_and_execucomp\\output\\execucomp_data\\person.sas7bdat\n",
      "df.shape: (56289, 8)\n",
      "df saved to excel\n",
      "C:\\Users\\jasonjia\\Dropbox\\Projects\\boardex_and_execucomp\\output\\execucomp_data\\stgrttab.sas7bdat\n",
      "df.shape: (27198, 49)\n",
      "df saved to excel\n"
     ]
    }
   ],
   "source": [
    "inputdir = Path(r\"C:\\Users\\jasonjia\\Dropbox\\Projects\\boardex_and_execucomp\\output\\execucomp_data\")\n",
    "for inputfilename in os.listdir(inputdir):\n",
    "    if \"sas7bdat\" in inputfilename:\n",
    "        inputfilepath = Path(inputdir / inputfilename)\n",
    "        print(inputfilepath)\n",
    "        convert_sas7bdat_to_excel(inputfilepath)"
   ]
  },
  {
   "cell_type": "markdown",
   "id": "35356373",
   "metadata": {},
   "source": [
    "C:\\Users\\jasonjia\\Dropbox\\Projects\\boardex_and_execucomp\\output\\execucomp_data\\anncomp.sas7bdat\n",
    "\n",
    "C:\\Users\\jasonjia\\Anaconda3\\lib\\site-packages\\pandas\\io\\sas\\sas7bdat.py:800: PerformanceWarning: DataFrame is highly fragmented.  This is usually the result of calling `frame.insert` many times, which has poor performance.  Consider joining all columns at once using pd.concat(axis=1) instead.  To get a de-fragmented frame, use `newframe = frame.copy()`\n",
    "  rslt[name] = self._byte_chunk[jb, :].view(dtype=self.byte_order + \"d\")\n",
    "\n",
    ".xlsx already exists, skipping this .sas7bdat file\n",
    "\n",
    "C:\\Users\\jasonjia\\Dropbox\\Projects\\boardex_and_execucomp\\output\\execucomp_data\\codirfin.sas7bdat\n",
    "df.shape: (26187, 71)\n",
    "df saved to excel\n",
    "C:\\Users\\jasonjia\\Dropbox\\Projects\\boardex_and_execucomp\\output\\execucomp_data\\colev.sas7bdat\n",
    "df.shape: (3915, 18)\n",
    "df saved to excel\n",
    "C:\\Users\\jasonjia\\Dropbox\\Projects\\boardex_and_execucomp\\output\\execucomp_data\\coperol.sas7bdat\n",
    "df.shape: (63403, 14)\n",
    "df saved to excel\n",
    "C:\\Users\\jasonjia\\Dropbox\\Projects\\boardex_and_execucomp\\output\\execucomp_data\\deferredcomp.sas7bdat\n",
    "df.shape: (60331, 46)\n",
    "df saved to excel\n",
    "C:\\Users\\jasonjia\\Dropbox\\Projects\\boardex_and_execucomp\\output\\execucomp_data\\directorcomp.sas7bdat\n",
    "df.shape: (142230, 28)\n",
    "df saved to excel\n",
    "C:\\Users\\jasonjia\\Dropbox\\Projects\\boardex_and_execucomp\\output\\execucomp_data\\exnames.sas7bdat\n",
    "df.shape: (3906, 5)\n",
    "df saved to excel\n",
    "C:\\Users\\jasonjia\\Dropbox\\Projects\\boardex_and_execucomp\\output\\execucomp_data\\ex_black.sas7bdat\n",
    "df.shape: (15, 6)\n",
    "df saved to excel\n",
    "C:\\Users\\jasonjia\\Dropbox\\Projects\\boardex_and_execucomp\\output\\execucomp_data\\ex_header.sas7bdat\n",
    "df.shape: (63459, 38)\n",
    "df saved to excel\n",
    "C:\\Users\\jasonjia\\Dropbox\\Projects\\boardex_and_execucomp\\output\\execucomp_data\\ltawdtab.sas7bdat\n",
    "df.shape: (6606, 48)\n",
    "df saved to excel\n",
    "C:\\Users\\jasonjia\\Dropbox\\Projects\\boardex_and_execucomp\\output\\execucomp_data\\outstandingawards.sas7bdat\n",
    "df.shape: (569005, 50)\n",
    "df saved to excel\n",
    "C:\\Users\\jasonjia\\Dropbox\\Projects\\boardex_and_execucomp\\output\\execucomp_data\\pension.sas7bdat\n",
    "df.shape: (65362, 44)\n",
    "df saved to excel\n",
    "C:\\Users\\jasonjia\\Dropbox\\Projects\\boardex_and_execucomp\\output\\execucomp_data\\person.sas7bdat\n",
    "df.shape: (56289, 8)\n",
    "df saved to excel\n",
    "C:\\Users\\jasonjia\\Dropbox\\Projects\\boardex_and_execucomp\\output\\execucomp_data\\stgrttab.sas7bdat\n",
    "df.shape: (27198, 49)\n",
    "df saved to excel\n"
   ]
  },
  {
   "cell_type": "markdown",
   "id": "8879a4ce",
   "metadata": {},
   "source": [
    "# Part 2"
   ]
  },
  {
   "cell_type": "code",
   "execution_count": 26,
   "id": "ea93ef32",
   "metadata": {},
   "outputs": [],
   "source": [
    "inputpathtest = Path(r\"C:\\Users\\jasonjia\\Dropbox\\Projects\\boardex_and_execucomp\\output\\execucomp_data\\codirfin.xlsx\")\n",
    "isinpath = Path(r\"C:\\Users\\jasonjia\\Dropbox\\Projects\\boardex_and_execucomp\\output\\original_isins\\isins_original.xlsx\")\n",
    "outputdir = Path(r\"C:\\Users\\jasonjia\\Dropbox\\Projects\\boardex_and_execucomp\\output\\gvkey_found_execucomp_check\")"
   ]
  },
  {
   "cell_type": "code",
   "execution_count": 7,
   "id": "bece3a0a",
   "metadata": {},
   "outputs": [
    {
     "name": "stdout",
     "output_type": "stream",
     "text": [
      "isin_gvkey shape: (4140,)\n",
      "isin_gvkey shape after dropping na: (4140,)\n"
     ]
    }
   ],
   "source": [
    "# Open up isins.xlsx\n",
    "df_isin = pd.read_excel(isinpath)\n",
    "isin_gvkey = df_isin['GVKEY']\n",
    "print(\"isin_gvkey shape:\", isin_gvkey.shape)\n",
    "# There should be no NAs\n",
    "isin_gvkey = isin_gvkey.dropna()\n",
    "print(\"isin_gvkey shape after dropping na:\", isin_gvkey.shape)"
   ]
  },
  {
   "cell_type": "code",
   "execution_count": 8,
   "id": "06ba229c",
   "metadata": {},
   "outputs": [
    {
     "name": "stdout",
     "output_type": "stream",
     "text": [
      "isin_gvkey_unique shape: (3424,)\n"
     ]
    },
    {
     "data": {
      "text/plain": [
       "array([  2270.,   3221.,   3497., ..., 102422., 210057., 211655.])"
      ]
     },
     "execution_count": 8,
     "metadata": {},
     "output_type": "execute_result"
    }
   ],
   "source": [
    "# get unique gvkeys in isins.xlsx and compute %\n",
    "isin_gvkey_unique = isin_gvkey.unique()\n",
    "print(\"isin_gvkey_unique shape:\", isin_gvkey_unique.shape)\n",
    "isin_gvkey_unique"
   ]
  },
  {
   "cell_type": "code",
   "execution_count": 37,
   "id": "ba61e074",
   "metadata": {},
   "outputs": [],
   "source": [
    "results = pd.DataFrame(columns=['name_of_execucomp_file', '% of gvkeys found out of 4140 rows', '% of gvkeys found out of 3424 unique gvkeys (from 4140 rows)'])"
   ]
  },
  {
   "cell_type": "code",
   "execution_count": null,
   "id": "713ea119",
   "metadata": {},
   "outputs": [],
   "source": [
    "for inputfilename in os.listdir(inputdir):\n",
    "    if \"xlsx\" in inputfilename:\n",
    "        # Get inputfilepath\n",
    "        inputfilepath = Path(inputdir / inputfilename)\n",
    "        print(inputfilepath)\n",
    "        outputfilename = inputfilename.stem + \"_gvkey_found.xlsx\"\n",
    "        outputfilepath = Path(outputdir / outputfilename)\n",
    "        \n",
    "        # Import an execucomp excel file\n",
    "        df_execucomp = pd.read_excel(inputfilepath)\n",
    "        \n",
    "        # Get the gvkeys of the execucomp excel file\n",
    "        input_gvkey = df_execucomp['GVKEY']\n",
    "        print(\"input_gvkey shape:\", input_gvkey.shape)\n",
    "        input_gvkey = input_gvkey.dropna() \n",
    "        print(\"input_gvkey shape after dropping na:\", input_gvkey.shape) # There should be no NAs\n",
    "        \n",
    "        # Get unique gvkeys in execucomp excel file\n",
    "        input_gvkey_unique = input_gvkey.unique()\n",
    "        print(\"input_gvkey_unique shape:\", input_gvkey_unique.shape)\n",
    "        \n",
    "        # Compare to check if each (non-unique) gvkey in isins.xlsx is in the execucomp gvkeys\n",
    "        gvkey_found = isin_gvkey.isin(input_gvkey_unique)\n",
    "        df_isin['gvkey_found'] = gvkey_found\n",
    "        pct_gvkey_found = round(gvkey_found.mean() * 100, 1)\n",
    "        print(\"% of gvkeys found out of 4140 rows:\", pct_gvkey_found)\n",
    "        \n",
    "        # Compare to check if each unique gvkey in isins.xlsx is in the execucomp gvkeys\n",
    "        gvkey_found_unique = pd.DataFrame(isin_gvkey_unique).isin(input_gvkey_unique)\n",
    "        pct_gvkey_found_unique = round(gvkey_found_unique.mean()[0] * 100, 1)\n",
    "        print(\"% of gvkeys found out of 3424 unique gvkeys (from 4140 rows):\", pct_gvkey_found_unique)\n",
    "        \n",
    "        # Create df_isin_unique: isins.xlsx with duplicate gvkeys removed\n",
    "        df_isin_unique = df_isin.drop_duplicates(subset=['GVKEY'])\n",
    "        df_isin_unique.reset_index(drop=True, inplace=True)\n",
    "        \n",
    "        # Add gvkey_found column to df_isin_unique\n",
    "        df_isin_unique['gvkey_found'] = gvkey_found_unique\n",
    "        \n",
    "        # Save matches into an excel file\n",
    "        with pd.ExcelWriter(outputfilepath) as writer:  \n",
    "            df_isin_unique.to_excel(writer, sheet_name='gvkey_found_unique', index=False)\n",
    "            df_isin.to_excel(writer, sheet_name='gvkey_found_original', index=False)\n",
    "        \n",
    "        # Append % gvkeys found statistics to result_df\n",
    "        result_row = {'name_of_execucomp_file': str(inputfilepath),\n",
    "                      '% of gvkeys found out of 4140 rows': pct_gvkey_found,\n",
    "                      '% of gvkeys found out of 3424 unique gvkeys (from 4140 rows)': pct_gvkey_found_unique}\n",
    "        results = results.append(result_row, ignore_index = True)\n",
    "        results\n",
    "        "
   ]
  },
  {
   "cell_type": "code",
   "execution_count": 24,
   "id": "4399a74c",
   "metadata": {},
   "outputs": [],
   "source": []
  },
  {
   "cell_type": "code",
   "execution_count": null,
   "id": "458cdde6",
   "metadata": {},
   "outputs": [],
   "source": []
  }
 ],
 "metadata": {
  "kernelspec": {
   "display_name": "Python 3 (ipykernel)",
   "language": "python",
   "name": "python3"
  },
  "language_info": {
   "codemirror_mode": {
    "name": "ipython",
    "version": 3
   },
   "file_extension": ".py",
   "mimetype": "text/x-python",
   "name": "python",
   "nbconvert_exporter": "python",
   "pygments_lexer": "ipython3",
   "version": "3.9.7"
  }
 },
 "nbformat": 4,
 "nbformat_minor": 5
}
