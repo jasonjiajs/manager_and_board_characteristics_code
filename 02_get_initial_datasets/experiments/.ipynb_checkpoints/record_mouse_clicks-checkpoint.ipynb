{
 "cells": [
  {
   "cell_type": "code",
   "execution_count": 14,
   "id": "f30f5a89",
   "metadata": {},
   "outputs": [],
   "source": [
    "# Define hard-coded variables\n",
    "record_one_mouse_click = True"
   ]
  },
  {
   "cell_type": "code",
   "execution_count": 15,
   "id": "25711cee",
   "metadata": {},
   "outputs": [
    {
     "name": "stdout",
     "output_type": "stream",
     "text": [
      "--- Screen size ---\n",
      "width x height: 1920 x 1080 (pixels)\n",
      "\n",
      "--- Starting the recording of clicks ---\n",
      "Record with left click, exit with right click\n",
      "\n",
      "(169, 468)\n",
      "\n",
      "--- Ending the recording of clicks\n",
      "Clicks: [(169, 468)]\n"
     ]
    }
   ],
   "source": [
    "# Import packages\n",
    "from tkinter import *\n",
    "from pynput import mouse\n",
    "\n",
    "# Get screen size\n",
    "root = Tk()\n",
    "monitor_height = root.winfo_screenheight()\n",
    "monitor_width = root.winfo_screenwidth()\n",
    "  \n",
    "print(\"--- Screen size ---\")\n",
    "print(\"width x height: %d x %d (pixels)\" %(monitor_width, monitor_height))\n",
    "print(\"\")\n",
    "\n",
    "# Record clicks\n",
    "clicks = []\n",
    "\n",
    "def on_click(x, y, button, pressed):\n",
    "    # Exit with right click\n",
    "    if button == mouse.Button.right:\n",
    "        return False\n",
    "    # Record with left click\n",
    "    if pressed:\n",
    "        print((x, y))\n",
    "        clicks.append((x, y))\n",
    "        # Stop recording if only recording one mouse click\n",
    "        if record_one_mouse_click:\n",
    "            return False\n",
    "\n",
    "# Print log \n",
    "print(\"--- Starting the recording of clicks ---\")\n",
    "print(\"Record with left click, exit with right click\")\n",
    "print(\"\")\n",
    "\n",
    "with mouse.Listener(\n",
    "        on_click=on_click) as listener:\n",
    "    listener.join()\n",
    "\n",
    "print(\"\")\n",
    "print(\"--- Ending the recording of clicks\")\n",
    "print(\"Clicks:\", clicks)"
   ]
  },
  {
   "cell_type": "code",
   "execution_count": null,
   "id": "3c3168ba",
   "metadata": {},
   "outputs": [],
   "source": []
  }
 ],
 "metadata": {
  "kernelspec": {
   "display_name": "Python 3 (ipykernel)",
   "language": "python",
   "name": "python3"
  },
  "language_info": {
   "codemirror_mode": {
    "name": "ipython",
    "version": 3
   },
   "file_extension": ".py",
   "mimetype": "text/x-python",
   "name": "python",
   "nbconvert_exporter": "python",
   "pygments_lexer": "ipython3",
   "version": "3.9.7"
  }
 },
 "nbformat": 4,
 "nbformat_minor": 5
}
