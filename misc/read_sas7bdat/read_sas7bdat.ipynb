{
 "cells": [
  {
   "cell_type": "code",
   "execution_count": 1,
   "id": "8803e952",
   "metadata": {},
   "outputs": [],
   "source": [
    "import pandas as pd\n",
    "from pathlib import Path"
   ]
  },
  {
   "cell_type": "code",
   "execution_count": 9,
   "id": "cebaf775",
   "metadata": {},
   "outputs": [],
   "source": [
    "inputpath = Path(r\"C:\\Users\\jasonjia\\Dropbox\\Projects\\boardex_and_execucomp\\data\\capitaliq_sample_data\\ciqtransactiontype.sas7bdat\")\n",
    "outputpath = Path(r\"C:\\Users\\jasonjia\\Dropbox\\Projects\\boardex_and_execucomp\\data\\capitaliq_sample_data\\ciqtransactiontype.xlsx\")"
   ]
  },
  {
   "cell_type": "code",
   "execution_count": 10,
   "id": "653c93aa",
   "metadata": {},
   "outputs": [],
   "source": [
    "def convert_sas7bdat_to_excel(inputpath, outputpath):\n",
    "    df = pd.read_sas(inputpath)\n",
    "    for i in df:\n",
    "        if df[i].dtype == 'O':\n",
    "            df[i] = df[i].str.decode('UTF-8')\n",
    "    df.to_excel(outputpath, index=False)\n",
    "    return df"
   ]
  },
  {
   "cell_type": "code",
   "execution_count": 11,
   "id": "691a0a4a",
   "metadata": {},
   "outputs": [],
   "source": [
    "df = convert_sas7bdat_to_excel(inputpath, outputpath)"
   ]
  },
  {
   "cell_type": "code",
   "execution_count": 12,
   "id": "5ab12880",
   "metadata": {},
   "outputs": [
    {
     "data": {
      "text/html": [
       "<div>\n",
       "<style scoped>\n",
       "    .dataframe tbody tr th:only-of-type {\n",
       "        vertical-align: middle;\n",
       "    }\n",
       "\n",
       "    .dataframe tbody tr th {\n",
       "        vertical-align: top;\n",
       "    }\n",
       "\n",
       "    .dataframe thead th {\n",
       "        text-align: right;\n",
       "    }\n",
       "</style>\n",
       "<table border=\"1\" class=\"dataframe\">\n",
       "  <thead>\n",
       "    <tr style=\"text-align: right;\">\n",
       "      <th></th>\n",
       "      <th>transactionidtypeid</th>\n",
       "      <th>transactionidtypename</th>\n",
       "    </tr>\n",
       "  </thead>\n",
       "  <tbody>\n",
       "    <tr>\n",
       "      <th>0</th>\n",
       "      <td>1.0</td>\n",
       "      <td>Private Placement</td>\n",
       "    </tr>\n",
       "    <tr>\n",
       "      <th>1</th>\n",
       "      <td>2.0</td>\n",
       "      <td>Merger/Acquisition</td>\n",
       "    </tr>\n",
       "    <tr>\n",
       "      <th>2</th>\n",
       "      <td>6.0</td>\n",
       "      <td>Public Offering</td>\n",
       "    </tr>\n",
       "    <tr>\n",
       "      <th>3</th>\n",
       "      <td>7.0</td>\n",
       "      <td>Spin-Off/Split-Off</td>\n",
       "    </tr>\n",
       "    <tr>\n",
       "      <th>4</th>\n",
       "      <td>10.0</td>\n",
       "      <td>Fund Raising</td>\n",
       "    </tr>\n",
       "    <tr>\n",
       "      <th>5</th>\n",
       "      <td>12.0</td>\n",
       "      <td>Bankruptcy</td>\n",
       "    </tr>\n",
       "    <tr>\n",
       "      <th>6</th>\n",
       "      <td>14.0</td>\n",
       "      <td>Buyback</td>\n",
       "    </tr>\n",
       "    <tr>\n",
       "      <th>7</th>\n",
       "      <td>15.0</td>\n",
       "      <td>Shelf Registration</td>\n",
       "    </tr>\n",
       "  </tbody>\n",
       "</table>\n",
       "</div>"
      ],
      "text/plain": [
       "   transactionidtypeid transactionidtypename\n",
       "0                  1.0     Private Placement\n",
       "1                  2.0    Merger/Acquisition\n",
       "2                  6.0       Public Offering\n",
       "3                  7.0    Spin-Off/Split-Off\n",
       "4                 10.0          Fund Raising\n",
       "5                 12.0            Bankruptcy\n",
       "6                 14.0               Buyback\n",
       "7                 15.0    Shelf Registration"
      ]
     },
     "execution_count": 12,
     "metadata": {},
     "output_type": "execute_result"
    }
   ],
   "source": [
    "df"
   ]
  },
  {
   "cell_type": "code",
   "execution_count": null,
   "id": "bf6b2971",
   "metadata": {},
   "outputs": [],
   "source": []
  }
 ],
 "metadata": {
  "kernelspec": {
   "display_name": "Python 3 (ipykernel)",
   "language": "python",
   "name": "python3"
  },
  "language_info": {
   "codemirror_mode": {
    "name": "ipython",
    "version": 3
   },
   "file_extension": ".py",
   "mimetype": "text/x-python",
   "name": "python",
   "nbconvert_exporter": "python",
   "pygments_lexer": "ipython3",
   "version": "3.9.7"
  }
 },
 "nbformat": 4,
 "nbformat_minor": 5
}
